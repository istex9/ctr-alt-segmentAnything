{
 "cells": [
  {
   "cell_type": "markdown",
   "source": [
    "## 0. Adatfeltárás"
   ],
   "metadata": {
    "collapsed": false
   },
   "id": "bb468d135a10fa6c"
  },
  {
   "cell_type": "code",
   "outputs": [],
   "source": [
    "import numpy as np\n",
    "from matplotlib import pyplot as plt\n",
    "import pandas as pd\n",
    "import random"
   ],
   "metadata": {
    "collapsed": false,
    "ExecuteTime": {
     "end_time": "2024-10-11T19:54:55.003556500Z",
     "start_time": "2024-10-11T19:54:54.988164600Z"
    }
   },
   "id": "997b298148eae1ed",
   "execution_count": 7
  },
  {
   "cell_type": "code",
   "outputs": [],
   "source": [
    "random.seed(42)"
   ],
   "metadata": {
    "collapsed": false,
    "ExecuteTime": {
     "end_time": "2024-10-11T19:54:59.270507900Z",
     "start_time": "2024-10-11T19:54:59.245588800Z"
    }
   },
   "id": "810ab8f6d96dda9b",
   "execution_count": 8
  },
  {
   "cell_type": "code",
   "execution_count": 3,
   "id": "initial_id",
   "metadata": {
    "collapsed": true,
    "ExecuteTime": {
     "end_time": "2024-10-11T19:54:13.463958400Z",
     "start_time": "2024-10-11T19:54:12.606972500Z"
    }
   },
   "outputs": [
    {
     "data": {
      "text/plain": "         ImageId                                      EncodedPixels\n0  00003e153.jpg                                                NaN\n1  0001124c7.jpg                                                NaN\n2  000155de5.jpg  264661 17 265429 33 266197 33 266965 33 267733...\n3  000194a2d.jpg  360486 1 361252 4 362019 5 362785 8 363552 10 ...\n4  000194a2d.jpg  51834 9 52602 9 53370 9 54138 9 54906 9 55674 ...",
      "text/html": "<div>\n<style scoped>\n    .dataframe tbody tr th:only-of-type {\n        vertical-align: middle;\n    }\n\n    .dataframe tbody tr th {\n        vertical-align: top;\n    }\n\n    .dataframe thead th {\n        text-align: right;\n    }\n</style>\n<table border=\"1\" class=\"dataframe\">\n  <thead>\n    <tr style=\"text-align: right;\">\n      <th></th>\n      <th>ImageId</th>\n      <th>EncodedPixels</th>\n    </tr>\n  </thead>\n  <tbody>\n    <tr>\n      <th>0</th>\n      <td>00003e153.jpg</td>\n      <td>NaN</td>\n    </tr>\n    <tr>\n      <th>1</th>\n      <td>0001124c7.jpg</td>\n      <td>NaN</td>\n    </tr>\n    <tr>\n      <th>2</th>\n      <td>000155de5.jpg</td>\n      <td>264661 17 265429 33 266197 33 266965 33 267733...</td>\n    </tr>\n    <tr>\n      <th>3</th>\n      <td>000194a2d.jpg</td>\n      <td>360486 1 361252 4 362019 5 362785 8 363552 10 ...</td>\n    </tr>\n    <tr>\n      <th>4</th>\n      <td>000194a2d.jpg</td>\n      <td>51834 9 52602 9 53370 9 54138 9 54906 9 55674 ...</td>\n    </tr>\n  </tbody>\n</table>\n</div>"
     },
     "execution_count": 3,
     "metadata": {},
     "output_type": "execute_result"
    }
   ],
   "source": [
    "df_masks = pd.read_csv('train_ship_segmentations_v2.csv')\n",
    "df_masks.head()"
   ]
  },
  {
   "cell_type": "code",
   "outputs": [],
   "source": [
    "def rle_decode(mask_rle, shape=(768, 768)):\n",
    "    s = mask_rle.split()\n",
    "    starts, lengths = [np.asarray(x, dtype=int) for x in (s[0::2], s[1::2])]\n",
    "    starts -= 1\n",
    "    ends = starts + lengths\n",
    "    img = np.zeros(shape[0] * shape[1], dtype=np.uint8)\n",
    "    for lo, hi in zip(starts, ends):\n",
    "        img[lo:hi] = 1\n",
    "    return img.reshape(shape).T"
   ],
   "metadata": {
    "collapsed": false,
    "ExecuteTime": {
     "end_time": "2024-10-11T19:54:19.257484900Z",
     "start_time": "2024-10-11T19:54:19.252758800Z"
    }
   },
   "id": "2dff446df891b117",
   "execution_count": 4
  },
  {
   "cell_type": "code",
   "outputs": [
    {
     "data": {
      "text/plain": "<Figure size 1500x1500 with 5 Axes>",
      "image/png": "[encoded data removed]"
     },
     "metadata": {},
     "output_type": "display_data"
    }
   ],
   "source": [
    "num_images = 5\n",
    "plt.figure(figsize=(15, 15))\n",
    "\n",
    "for i in range(num_images):\n",
    "    # Az i-edik képhez tartozó Run-Length Encoding (RLE) maszk kiválasztása\n",
    "    image_id = df_masks['ImageId'].iloc[i]\n",
    "    image_rle = df_masks[df_masks['ImageId'] == image_id]['EncodedPixels'].values[0]\n",
    "\n",
    "    # Az RLE dekódolása, ha nem üres (NaN)\n",
    "    if pd.isna(image_rle):\n",
    "        mask = np.zeros((768, 768), dtype=np.uint8)\n",
    "    else:\n",
    "        mask = rle_decode(image_rle, shape=(768, 768))\n",
    "\n",
    "    # Maszk megjelenítése: hajók fehérek, háttér fekete\n",
    "    plt.subplot(1, num_images, i + 1)\n",
    "    plt.imshow(mask, cmap='gray')\n",
    "    plt.title(f\"Kép {i + 1}\")\n",
    "    plt.axis('off')\n",
    "    \n",
    "plt.show()"
   ],
   "metadata": {
    "collapsed": false,
    "ExecuteTime": {
     "end_time": "2024-10-11T19:54:34.611525400Z",
     "start_time": "2024-10-11T19:54:33.976658400Z"
    }
   },
   "id": "941f31ddc0c7bd4e",
   "execution_count": 6
  },
  {
   "cell_type": "code",
   "outputs": [],
   "source": [],
   "metadata": {
    "collapsed": false,
    "ExecuteTime": {
     "end_time": "2024-10-11T19:54:34.612533400Z",
     "start_time": "2024-10-11T19:54:34.568274500Z"
    }
   },
   "id": "55fdbad01ead175f",
   "execution_count": 6
  },
  {
   "cell_type": "code",
   "outputs": [],
   "source": [],
   "metadata": {
    "collapsed": false,
    "ExecuteTime": {
     "end_time": "2024-10-11T19:54:34.681933800Z",
     "start_time": "2024-10-11T19:54:34.618005700Z"
    }
   },
   "id": "9de1e75ef1607093",
   "execution_count": 6
  },
  {
   "cell_type": "code",
   "outputs": [],
   "source": [],
   "metadata": {
    "collapsed": false
   },
   "id": "c36c9e5d61dd0ed4"
  }
 ],
 "metadata": {
  "kernelspec": {
   "display_name": "Python 3",
   "language": "python",
   "name": "python3"
  },
  "language_info": {
   "codemirror_mode": {
    "name": "ipython",
    "version": 2
   },
   "file_extension": ".py",
   "mimetype": "text/x-python",
   "name": "python",
   "nbconvert_exporter": "python",
   "pygments_lexer": "ipython2",
   "version": "2.7.6"
  }
 },
 "nbformat": 4,
 "nbformat_minor": 5
}
